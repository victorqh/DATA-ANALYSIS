{
  "nbformat": 4,
  "nbformat_minor": 0,
  "metadata": {
    "colab": {
      "provenance": []
    },
    "kernelspec": {
      "name": "python3",
      "display_name": "Python 3"
    },
    "language_info": {
      "name": "python"
    }
  },
  "cells": [
    {
      "cell_type": "code",
      "source": [
        "from pyspark import SparkContext\n",
        "import pandas as pd\n",
        "from datetime import datetime"
      ],
      "metadata": {
        "id": "H4IDx7cf_mQ-"
      },
      "execution_count": 2,
      "outputs": []
    },
    {
      "cell_type": "code",
      "source": [
        "sc = SparkContext()"
      ],
      "metadata": {
        "id": "_UPj0Bco_oHa"
      },
      "execution_count": 3,
      "outputs": []
    },
    {
      "cell_type": "code",
      "source": [
        "df = pd.read_excel('Mensuales-20241113-184335.xlsx')"
      ],
      "metadata": {
        "id": "W-GiVyTd_rR1"
      },
      "execution_count": 5,
      "outputs": []
    },
    {
      "cell_type": "code",
      "source": [
        "print(df.head())"
      ],
      "metadata": {
        "colab": {
          "base_uri": "https://localhost:8080/"
        },
        "id": "OgxdCDr3_-c1",
        "outputId": "440b8538-5ec2-4dbd-e0f1-26c91d0e1189"
      },
      "execution_count": 6,
      "outputs": [
        {
          "output_type": "stream",
          "name": "stdout",
          "text": [
            "     CAMBIO      FECHA\n",
            "0  3.873395 2022-11-01\n",
            "1  3.826305 2022-12-01\n",
            "2  3.831490 2023-01-01\n",
            "3  3.838095 2023-02-01\n",
            "4  3.777665 2023-03-01\n"
          ]
        }
      ]
    },
    {
      "cell_type": "code",
      "source": [
        "df = df[['CAMBIO', 'FECHA']]"
      ],
      "metadata": {
        "id": "TgoiKY1ICFhI"
      },
      "execution_count": 7,
      "outputs": []
    },
    {
      "cell_type": "code",
      "source": [
        "df['FECHA'] = pd.to_datetime(df['FECHA'], format='%d/%m/%Y')"
      ],
      "metadata": {
        "id": "OBQVkpdUDM4d"
      },
      "execution_count": 8,
      "outputs": []
    },
    {
      "cell_type": "code",
      "source": [
        "print(df.head())"
      ],
      "metadata": {
        "colab": {
          "base_uri": "https://localhost:8080/"
        },
        "id": "4SqxMgoRDP24",
        "outputId": "055bc462-1798-488f-b070-eee10a41f869"
      },
      "execution_count": 9,
      "outputs": [
        {
          "output_type": "stream",
          "name": "stdout",
          "text": [
            "     CAMBIO      FECHA\n",
            "0  3.873395 2022-11-01\n",
            "1  3.826305 2022-12-01\n",
            "2  3.831490 2023-01-01\n",
            "3  3.838095 2023-02-01\n",
            "4  3.777665 2023-03-01\n"
          ]
        }
      ]
    },
    {
      "cell_type": "code",
      "source": [
        "rdd_data = sc.parallelize(df.values.tolist())"
      ],
      "metadata": {
        "id": "1hy6u_OXAAzk"
      },
      "execution_count": 11,
      "outputs": []
    },
    {
      "cell_type": "code",
      "source": [
        "#Procesar las filas del RDD\n",
        "def procesar_datos(row):\n",
        "    valor = row[0]\n",
        "    fecha = row[1]\n",
        "    return (fecha, valor)\n",
        "\n",
        "# Aplicar la transformación al RDD\n",
        "rdd_transformado = rdd_data.map(procesar_datos)"
      ],
      "metadata": {
        "id": "w_gzs02cAEmk"
      },
      "execution_count": 12,
      "outputs": []
    },
    {
      "cell_type": "code",
      "source": [
        "rdd_filtrado = rdd_transformado.filter(lambda x: x[1] != '' and x[1] is not None)"
      ],
      "metadata": {
        "id": "kYPbgTZUAaci"
      },
      "execution_count": 13,
      "outputs": []
    },
    {
      "cell_type": "code",
      "source": [
        "#Análisis histórico (promedio del tipo de cambio)\n",
        "total_cambio = rdd_transformado.map(lambda x: x[1]).sum()  # Sumar todos los cambios\n",
        "cantidad_filas = rdd_transformado.count()  # Contar las filas"
      ],
      "metadata": {
        "id": "m9Nph__JAdRO"
      },
      "execution_count": 14,
      "outputs": []
    },
    {
      "cell_type": "code",
      "source": [
        "# Calcular el promedio\n",
        "if cantidad_filas > 0:\n",
        "    promedio_cambio = total_cambio / cantidad_filas\n",
        "    print(f\"El promedio histórico del tipo de cambio es: S/ {promedio_cambio:.2f}\")\n",
        "else:\n",
        "    print(\"No hay datos suficientes para calcular el promedio.\")"
      ],
      "metadata": {
        "colab": {
          "base_uri": "https://localhost:8080/"
        },
        "id": "3gWHu2VeAlXt",
        "outputId": "84e78427-bf26-421a-ae76-0205112e1922"
      },
      "execution_count": 15,
      "outputs": [
        {
          "output_type": "stream",
          "name": "stdout",
          "text": [
            "El promedio histórico del tipo de cambio es: S/ 3.76\n"
          ]
        }
      ]
    },
    {
      "cell_type": "code",
      "source": [
        "#Identificar si el tipo de cambio actual es favorable\n",
        "ultimo_tipo_cambio = rdd_transformado.takeOrdered(1, key=lambda x: x[0])[-1][1]  # El último tipo de cambio registrado\n",
        "print(f\"Último tipo de cambio registrado: S/ {ultimo_tipo_cambio:.2f}\")"
      ],
      "metadata": {
        "colab": {
          "base_uri": "https://localhost:8080/"
        },
        "id": "eJ9MBq5zCBns",
        "outputId": "ed2fa8fd-3c49-40ff-d335-712cb5361128"
      },
      "execution_count": 16,
      "outputs": [
        {
          "output_type": "stream",
          "name": "stdout",
          "text": [
            "Último tipo de cambio registrado: S/ 3.87\n"
          ]
        }
      ]
    },
    {
      "cell_type": "code",
      "source": [
        "# Comparar el tipo de cambio actual con el promedio\n",
        "if ultimo_tipo_cambio < promedio_cambio:\n",
        "    print(\"BUEN CAMBIO\")\n",
        "else:\n",
        "    print(\"NO ES BUEN MOMENTO PARA REALIZAR EL CAMBIO\")\n"
      ],
      "metadata": {
        "colab": {
          "base_uri": "https://localhost:8080/"
        },
        "id": "pbw9d7PODkRk",
        "outputId": "71ef482a-fc28-4b4c-b516-5cf8ca1dbfb3"
      },
      "execution_count": 17,
      "outputs": [
        {
          "output_type": "stream",
          "name": "stdout",
          "text": [
            "NO ES BUEN MOMENTO PARA REALIZAR EL CAMBIO\n"
          ]
        }
      ]
    },
    {
      "cell_type": "code",
      "source": [],
      "metadata": {
        "id": "JXEJB38AMc15"
      },
      "execution_count": null,
      "outputs": []
    }
  ]
}