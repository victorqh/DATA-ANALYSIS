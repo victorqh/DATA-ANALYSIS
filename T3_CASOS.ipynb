{
  "nbformat": 4,
  "nbformat_minor": 0,
  "metadata": {
    "colab": {
      "provenance": []
    },
    "kernelspec": {
      "name": "python3",
      "display_name": "Python 3"
    },
    "language_info": {
      "name": "python"
    }
  },
  "cells": [
    {
      "cell_type": "code",
      "execution_count": 1,
      "metadata": {
        "id": "ueZwx0YiBquN"
      },
      "outputs": [],
      "source": [
        "from pyspark import SparkContext"
      ]
    },
    {
      "cell_type": "code",
      "source": [
        "sc = SparkContext()"
      ],
      "metadata": {
        "id": "adJCXsUCCu8q"
      },
      "execution_count": 2,
      "outputs": []
    },
    {
      "cell_type": "code",
      "source": [
        "rdd_numeros = sc.parallelize([1,2,3,4])"
      ],
      "metadata": {
        "id": "jiV6_T9sCzg1"
      },
      "execution_count": 3,
      "outputs": []
    },
    {
      "cell_type": "code",
      "source": [
        "duplicar = numeros.map(lambda x: x*2)"
      ],
      "metadata": {
        "id": "niKI-pbfC8oC"
      },
      "execution_count": 4,
      "outputs": []
    },
    {
      "cell_type": "code",
      "source": [
        "filtro = duplicar.filter(lambda x: x>5)"
      ],
      "metadata": {
        "id": "Yx5wmY5nDAfI"
      },
      "execution_count": 5,
      "outputs": []
    },
    {
      "cell_type": "code",
      "source": [
        "resultado = filtro.collect()\n",
        "print(\"Resultado do filtro:\", resultado)"
      ],
      "metadata": {
        "colab": {
          "base_uri": "https://localhost:8080/"
        },
        "id": "zhzof3EZDEkW",
        "outputId": "c4e9134d-39f3-4a95-cbaf-44b239187b2e"
      },
      "execution_count": 8,
      "outputs": [
        {
          "output_type": "stream",
          "name": "stdout",
          "text": [
            "Resultado do filtro: [6, 8]\n"
          ]
        }
      ]
    },
    {
      "cell_type": "code",
      "source": [
        "sc.stop()"
      ],
      "metadata": {
        "id": "C_WQFUJ2GkOj"
      },
      "execution_count": null,
      "outputs": []
    },
    {
      "cell_type": "code",
      "source": [
        "rdd_ventas = sc.parallelize([(\"ProductoA\",100),\n",
        "                         (\"ProductoB\",23),\n",
        "                         (\"ProductoB\",45),\n",
        "                         (\"ProductoA\",10),\n",
        "                         (\"ProductoB\",31),\n",
        "                         (\"ProductoB\",16)])"
      ],
      "metadata": {
        "id": "nRZyIDkVGl8C"
      },
      "execution_count": 19,
      "outputs": []
    },
    {
      "cell_type": "code",
      "source": [
        "ventas_por_producto = rdd_ventas.reduceByKey(lambda x, y: x + y)"
      ],
      "metadata": {
        "id": "JI7YATpqHnQo"
      },
      "execution_count": 20,
      "outputs": []
    },
    {
      "cell_type": "code",
      "source": [
        "orden_lista = ventas_por_producto.sortBy(lambda x: x[1], ascending=False)"
      ],
      "metadata": {
        "id": "t1IMtDO9IS-m"
      },
      "execution_count": 23,
      "outputs": []
    },
    {
      "cell_type": "code",
      "source": [
        "resultado = orden_lista.collect()\n",
        "print(\"Ventas totales por producto (de menor a mayor):\")\n",
        "for producto, total in resultado:\n",
        "    print(f\"{producto}: {total}\")"
      ],
      "metadata": {
        "colab": {
          "base_uri": "https://localhost:8080/"
        },
        "id": "sipQ1CqRIbdP",
        "outputId": "7ae98308-4677-44f4-b590-d15ce1f57f38"
      },
      "execution_count": 24,
      "outputs": [
        {
          "output_type": "stream",
          "name": "stdout",
          "text": [
            "Ventas totales por producto (de menor a mayor):\n",
            "ProductoB: 115\n",
            "ProductoA: 110\n"
          ]
        }
      ]
    },
    {
      "cell_type": "code",
      "source": [],
      "metadata": {
        "id": "LnIszKUeJWFP"
      },
      "execution_count": null,
      "outputs": []
    },
    {
      "cell_type": "code",
      "source": [
        "registros_rdd = sc.parallelize ([\n",
        "    (\"2024-11-10\", \"UPN-CHORRILLOS\", \"user1\"),\n",
        "    (\"2024-11-10\", \"UPN-CHORRILLOS\", \"user2\"),\n",
        "    (\"2024-11-10\", \"UPN-CHORRILLOS\", \"user3\"),\n",
        "    (\"2024-11-11\", \"UPN-BREÑA\", \"user4\"),\n",
        "    (\"2024-11-11\", \"UPN-CHORRILLOS\", \"user5\"),\n",
        "    (\"2024-11-11\", \"UPN-BREÑA\", \"user1\"),\n",
        "    (\"2024-11-12\", \"UPN-CHORRILLOS\", \"user6\"),\n",
        "    (\"2024-11-12\", \"UPN-CHORRILLOS\", \"user2\"),\n",
        "    (\"2024-11-12\", \"UPN-BREÑA\", \"user2\"),\n",
        "    (\"2024-11-12\", \"UPN-CHORRILLOS\", \"user4\"),\n",
        "    (\"2024-11-12\", \"UPN-CHORRILLOS\", \"user1\"),\n",
        "])"
      ],
      "metadata": {
        "id": "fNrjrUJ3Mm8Q"
      },
      "execution_count": 48,
      "outputs": []
    },
    {
      "cell_type": "code",
      "source": [
        "contador_accesos = registros_rdd.map(lambda x: (x[0], 1)).reduceByKey(lambda x, y: x + y)"
      ],
      "metadata": {
        "id": "Ibgr5H4hNALy"
      },
      "execution_count": 49,
      "outputs": []
    },
    {
      "cell_type": "code",
      "source": [
        "resultado_dia = contador_accesos.collect()\n",
        "print(\"Accesos por día:\")\n",
        "for fecha, total in resultado_dia:\n",
        "    print(f\"{fecha}: {total}\")"
      ],
      "metadata": {
        "colab": {
          "base_uri": "https://localhost:8080/"
        },
        "id": "xROK6rIbNcXa",
        "outputId": "ae06f5f4-1509-4a70-85c1-82d72c0b354e"
      },
      "execution_count": 50,
      "outputs": [
        {
          "output_type": "stream",
          "name": "stdout",
          "text": [
            "Accesos por día:\n",
            "2024-11-10: 3\n",
            "2024-11-11: 3\n",
            "2024-11-12: 5\n"
          ]
        }
      ]
    },
    {
      "cell_type": "code",
      "source": [
        "sedes = registros_rdd.map(lambda x: (x[1], 1)).reduceByKey(lambda x, y: x + y)"
      ],
      "metadata": {
        "id": "ohQvwqVFNqHc"
      },
      "execution_count": 51,
      "outputs": []
    },
    {
      "cell_type": "code",
      "source": [
        "orden_sede = sedes.sortBy(lambda x: x[1], ascending=False)"
      ],
      "metadata": {
        "id": "CaIC_OOeONNN"
      },
      "execution_count": 52,
      "outputs": []
    },
    {
      "cell_type": "code",
      "source": [
        "resultado_sede = orden_sede.collect()\n",
        "print(\"Ingresos por sede (de mayor a menor):\")\n",
        "for sede, total in resultado_sede:\n",
        "    print(f\"{sede}: {total}\")"
      ],
      "metadata": {
        "colab": {
          "base_uri": "https://localhost:8080/"
        },
        "id": "7R3LZEN3N2Lp",
        "outputId": "47146877-1571-4a9b-ccd9-4bc3eabb50b1"
      },
      "execution_count": 55,
      "outputs": [
        {
          "output_type": "stream",
          "name": "stdout",
          "text": [
            "Ingresos por sede (de mayor a menor):\n",
            "UPN-CHORRILLOS: 8\n",
            "UPN-BREÑA: 3\n"
          ]
        }
      ]
    },
    {
      "cell_type": "markdown",
      "source": [
        "USARE UN ARCHIVO EXCEL"
      ],
      "metadata": {
        "id": "XfirjRvDSHh1"
      }
    },
    {
      "cell_type": "code",
      "source": [
        "import pandas as pd\n",
        "\n",
        "df = pd.read_excel(\"empresa_x2.xlsx\")"
      ],
      "metadata": {
        "id": "lcW4AROoSJyK"
      },
      "execution_count": 56,
      "outputs": []
    },
    {
      "cell_type": "code",
      "source": [
        "datos = [tuple(x) for x in df.to_records(index=False)]"
      ],
      "metadata": {
        "id": "oMjuTcLlTNRp"
      },
      "execution_count": 57,
      "outputs": []
    },
    {
      "cell_type": "code",
      "source": [
        "rdd_ventas = sc.parallelize(datos)"
      ],
      "metadata": {
        "id": "gTk4X9L6TsD1"
      },
      "execution_count": 58,
      "outputs": []
    },
    {
      "cell_type": "code",
      "source": [
        "df"
      ],
      "metadata": {
        "colab": {
          "base_uri": "https://localhost:8080/",
          "height": 551
        },
        "id": "TlPOq0gQWRpz",
        "outputId": "706b09e8-f15b-4194-ab42-aa4a85f25102"
      },
      "execution_count": 70,
      "outputs": [
        {
          "output_type": "execute_result",
          "data": {
            "text/plain": [
              "        Fecha      Producto o Servicio    Categoría  Cantidad Vendida  \\\n",
              "0  2024-01-01               Laptop Pro     Hardware                35   \n",
              "1  2024-01-01              Tablet Lite     Hardware                48   \n",
              "2  2024-01-01             Software CRM     Software                47   \n",
              "3  2024-01-01  Soporte Técnico Mensual  Suscripción                 5   \n",
              "4  2024-02-01               Laptop Pro     Hardware                21   \n",
              "5  2024-02-01              Tablet Lite     Hardware                18   \n",
              "6  2024-02-01             Software CRM     Software                37   \n",
              "7  2024-02-01  Soporte Técnico Mensual  Suscripción                34   \n",
              "8  2024-03-01               Laptop Pro     Hardware                36   \n",
              "9  2024-03-01              Tablet Lite     Hardware                42   \n",
              "10 2024-03-01             Software CRM     Software                32   \n",
              "11 2024-03-01  Soporte Técnico Mensual  Suscripción                10   \n",
              "12 2024-03-01               Laptop Pro     Hardware                30   \n",
              "13 2024-03-01              Tablet Lite     Hardware                50   \n",
              "14 2024-03-01             Software ERP     Software                40   \n",
              "15 2024-03-01    Soporte Técnico Anual  Suscripción                 3   \n",
              "\n",
              "    Precio Unitario  Total Venta  \n",
              "0           1079.96     37798.60  \n",
              "1            295.64     14190.72  \n",
              "2           1055.52     49609.44  \n",
              "3            739.12      3695.60  \n",
              "4            191.81      4028.01  \n",
              "5            357.72      6438.96  \n",
              "6            213.23      7889.51  \n",
              "7            950.94     32331.96  \n",
              "8            908.08     32690.88  \n",
              "9            882.44     37062.48  \n",
              "10           663.07     21218.24  \n",
              "11           863.86      8638.60  \n",
              "12          1079.96     32398.80  \n",
              "13           295.64     14782.00  \n",
              "14          1255.32     50212.80  \n",
              "15           739.12      2217.36  "
            ],
            "text/html": [
              "\n",
              "  <div id=\"df-2320837d-9724-4470-93f4-201bcd10b994\" class=\"colab-df-container\">\n",
              "    <div>\n",
              "<style scoped>\n",
              "    .dataframe tbody tr th:only-of-type {\n",
              "        vertical-align: middle;\n",
              "    }\n",
              "\n",
              "    .dataframe tbody tr th {\n",
              "        vertical-align: top;\n",
              "    }\n",
              "\n",
              "    .dataframe thead th {\n",
              "        text-align: right;\n",
              "    }\n",
              "</style>\n",
              "<table border=\"1\" class=\"dataframe\">\n",
              "  <thead>\n",
              "    <tr style=\"text-align: right;\">\n",
              "      <th></th>\n",
              "      <th>Fecha</th>\n",
              "      <th>Producto o Servicio</th>\n",
              "      <th>Categoría</th>\n",
              "      <th>Cantidad Vendida</th>\n",
              "      <th>Precio Unitario</th>\n",
              "      <th>Total Venta</th>\n",
              "    </tr>\n",
              "  </thead>\n",
              "  <tbody>\n",
              "    <tr>\n",
              "      <th>0</th>\n",
              "      <td>2024-01-01</td>\n",
              "      <td>Laptop Pro</td>\n",
              "      <td>Hardware</td>\n",
              "      <td>35</td>\n",
              "      <td>1079.96</td>\n",
              "      <td>37798.60</td>\n",
              "    </tr>\n",
              "    <tr>\n",
              "      <th>1</th>\n",
              "      <td>2024-01-01</td>\n",
              "      <td>Tablet Lite</td>\n",
              "      <td>Hardware</td>\n",
              "      <td>48</td>\n",
              "      <td>295.64</td>\n",
              "      <td>14190.72</td>\n",
              "    </tr>\n",
              "    <tr>\n",
              "      <th>2</th>\n",
              "      <td>2024-01-01</td>\n",
              "      <td>Software CRM</td>\n",
              "      <td>Software</td>\n",
              "      <td>47</td>\n",
              "      <td>1055.52</td>\n",
              "      <td>49609.44</td>\n",
              "    </tr>\n",
              "    <tr>\n",
              "      <th>3</th>\n",
              "      <td>2024-01-01</td>\n",
              "      <td>Soporte Técnico Mensual</td>\n",
              "      <td>Suscripción</td>\n",
              "      <td>5</td>\n",
              "      <td>739.12</td>\n",
              "      <td>3695.60</td>\n",
              "    </tr>\n",
              "    <tr>\n",
              "      <th>4</th>\n",
              "      <td>2024-02-01</td>\n",
              "      <td>Laptop Pro</td>\n",
              "      <td>Hardware</td>\n",
              "      <td>21</td>\n",
              "      <td>191.81</td>\n",
              "      <td>4028.01</td>\n",
              "    </tr>\n",
              "    <tr>\n",
              "      <th>5</th>\n",
              "      <td>2024-02-01</td>\n",
              "      <td>Tablet Lite</td>\n",
              "      <td>Hardware</td>\n",
              "      <td>18</td>\n",
              "      <td>357.72</td>\n",
              "      <td>6438.96</td>\n",
              "    </tr>\n",
              "    <tr>\n",
              "      <th>6</th>\n",
              "      <td>2024-02-01</td>\n",
              "      <td>Software CRM</td>\n",
              "      <td>Software</td>\n",
              "      <td>37</td>\n",
              "      <td>213.23</td>\n",
              "      <td>7889.51</td>\n",
              "    </tr>\n",
              "    <tr>\n",
              "      <th>7</th>\n",
              "      <td>2024-02-01</td>\n",
              "      <td>Soporte Técnico Mensual</td>\n",
              "      <td>Suscripción</td>\n",
              "      <td>34</td>\n",
              "      <td>950.94</td>\n",
              "      <td>32331.96</td>\n",
              "    </tr>\n",
              "    <tr>\n",
              "      <th>8</th>\n",
              "      <td>2024-03-01</td>\n",
              "      <td>Laptop Pro</td>\n",
              "      <td>Hardware</td>\n",
              "      <td>36</td>\n",
              "      <td>908.08</td>\n",
              "      <td>32690.88</td>\n",
              "    </tr>\n",
              "    <tr>\n",
              "      <th>9</th>\n",
              "      <td>2024-03-01</td>\n",
              "      <td>Tablet Lite</td>\n",
              "      <td>Hardware</td>\n",
              "      <td>42</td>\n",
              "      <td>882.44</td>\n",
              "      <td>37062.48</td>\n",
              "    </tr>\n",
              "    <tr>\n",
              "      <th>10</th>\n",
              "      <td>2024-03-01</td>\n",
              "      <td>Software CRM</td>\n",
              "      <td>Software</td>\n",
              "      <td>32</td>\n",
              "      <td>663.07</td>\n",
              "      <td>21218.24</td>\n",
              "    </tr>\n",
              "    <tr>\n",
              "      <th>11</th>\n",
              "      <td>2024-03-01</td>\n",
              "      <td>Soporte Técnico Mensual</td>\n",
              "      <td>Suscripción</td>\n",
              "      <td>10</td>\n",
              "      <td>863.86</td>\n",
              "      <td>8638.60</td>\n",
              "    </tr>\n",
              "    <tr>\n",
              "      <th>12</th>\n",
              "      <td>2024-03-01</td>\n",
              "      <td>Laptop Pro</td>\n",
              "      <td>Hardware</td>\n",
              "      <td>30</td>\n",
              "      <td>1079.96</td>\n",
              "      <td>32398.80</td>\n",
              "    </tr>\n",
              "    <tr>\n",
              "      <th>13</th>\n",
              "      <td>2024-03-01</td>\n",
              "      <td>Tablet Lite</td>\n",
              "      <td>Hardware</td>\n",
              "      <td>50</td>\n",
              "      <td>295.64</td>\n",
              "      <td>14782.00</td>\n",
              "    </tr>\n",
              "    <tr>\n",
              "      <th>14</th>\n",
              "      <td>2024-03-01</td>\n",
              "      <td>Software ERP</td>\n",
              "      <td>Software</td>\n",
              "      <td>40</td>\n",
              "      <td>1255.32</td>\n",
              "      <td>50212.80</td>\n",
              "    </tr>\n",
              "    <tr>\n",
              "      <th>15</th>\n",
              "      <td>2024-03-01</td>\n",
              "      <td>Soporte Técnico Anual</td>\n",
              "      <td>Suscripción</td>\n",
              "      <td>3</td>\n",
              "      <td>739.12</td>\n",
              "      <td>2217.36</td>\n",
              "    </tr>\n",
              "  </tbody>\n",
              "</table>\n",
              "</div>\n",
              "    <div class=\"colab-df-buttons\">\n",
              "\n",
              "  <div class=\"colab-df-container\">\n",
              "    <button class=\"colab-df-convert\" onclick=\"convertToInteractive('df-2320837d-9724-4470-93f4-201bcd10b994')\"\n",
              "            title=\"Convert this dataframe to an interactive table.\"\n",
              "            style=\"display:none;\">\n",
              "\n",
              "  <svg xmlns=\"http://www.w3.org/2000/svg\" height=\"24px\" viewBox=\"0 -960 960 960\">\n",
              "    <path d=\"M120-120v-720h720v720H120Zm60-500h600v-160H180v160Zm220 220h160v-160H400v160Zm0 220h160v-160H400v160ZM180-400h160v-160H180v160Zm440 0h160v-160H620v160ZM180-180h160v-160H180v160Zm440 0h160v-160H620v160Z\"/>\n",
              "  </svg>\n",
              "    </button>\n",
              "\n",
              "  <style>\n",
              "    .colab-df-container {\n",
              "      display:flex;\n",
              "      gap: 12px;\n",
              "    }\n",
              "\n",
              "    .colab-df-convert {\n",
              "      background-color: #E8F0FE;\n",
              "      border: none;\n",
              "      border-radius: 50%;\n",
              "      cursor: pointer;\n",
              "      display: none;\n",
              "      fill: #1967D2;\n",
              "      height: 32px;\n",
              "      padding: 0 0 0 0;\n",
              "      width: 32px;\n",
              "    }\n",
              "\n",
              "    .colab-df-convert:hover {\n",
              "      background-color: #E2EBFA;\n",
              "      box-shadow: 0px 1px 2px rgba(60, 64, 67, 0.3), 0px 1px 3px 1px rgba(60, 64, 67, 0.15);\n",
              "      fill: #174EA6;\n",
              "    }\n",
              "\n",
              "    .colab-df-buttons div {\n",
              "      margin-bottom: 4px;\n",
              "    }\n",
              "\n",
              "    [theme=dark] .colab-df-convert {\n",
              "      background-color: #3B4455;\n",
              "      fill: #D2E3FC;\n",
              "    }\n",
              "\n",
              "    [theme=dark] .colab-df-convert:hover {\n",
              "      background-color: #434B5C;\n",
              "      box-shadow: 0px 1px 3px 1px rgba(0, 0, 0, 0.15);\n",
              "      filter: drop-shadow(0px 1px 2px rgba(0, 0, 0, 0.3));\n",
              "      fill: #FFFFFF;\n",
              "    }\n",
              "  </style>\n",
              "\n",
              "    <script>\n",
              "      const buttonEl =\n",
              "        document.querySelector('#df-2320837d-9724-4470-93f4-201bcd10b994 button.colab-df-convert');\n",
              "      buttonEl.style.display =\n",
              "        google.colab.kernel.accessAllowed ? 'block' : 'none';\n",
              "\n",
              "      async function convertToInteractive(key) {\n",
              "        const element = document.querySelector('#df-2320837d-9724-4470-93f4-201bcd10b994');\n",
              "        const dataTable =\n",
              "          await google.colab.kernel.invokeFunction('convertToInteractive',\n",
              "                                                    [key], {});\n",
              "        if (!dataTable) return;\n",
              "\n",
              "        const docLinkHtml = 'Like what you see? Visit the ' +\n",
              "          '<a target=\"_blank\" href=https://colab.research.google.com/notebooks/data_table.ipynb>data table notebook</a>'\n",
              "          + ' to learn more about interactive tables.';\n",
              "        element.innerHTML = '';\n",
              "        dataTable['output_type'] = 'display_data';\n",
              "        await google.colab.output.renderOutput(dataTable, element);\n",
              "        const docLink = document.createElement('div');\n",
              "        docLink.innerHTML = docLinkHtml;\n",
              "        element.appendChild(docLink);\n",
              "      }\n",
              "    </script>\n",
              "  </div>\n",
              "\n",
              "\n",
              "<div id=\"df-3a5728f3-b0d8-45ce-b191-e0bce4264220\">\n",
              "  <button class=\"colab-df-quickchart\" onclick=\"quickchart('df-3a5728f3-b0d8-45ce-b191-e0bce4264220')\"\n",
              "            title=\"Suggest charts\"\n",
              "            style=\"display:none;\">\n",
              "\n",
              "<svg xmlns=\"http://www.w3.org/2000/svg\" height=\"24px\"viewBox=\"0 0 24 24\"\n",
              "     width=\"24px\">\n",
              "    <g>\n",
              "        <path d=\"M19 3H5c-1.1 0-2 .9-2 2v14c0 1.1.9 2 2 2h14c1.1 0 2-.9 2-2V5c0-1.1-.9-2-2-2zM9 17H7v-7h2v7zm4 0h-2V7h2v10zm4 0h-2v-4h2v4z\"/>\n",
              "    </g>\n",
              "</svg>\n",
              "  </button>\n",
              "\n",
              "<style>\n",
              "  .colab-df-quickchart {\n",
              "      --bg-color: #E8F0FE;\n",
              "      --fill-color: #1967D2;\n",
              "      --hover-bg-color: #E2EBFA;\n",
              "      --hover-fill-color: #174EA6;\n",
              "      --disabled-fill-color: #AAA;\n",
              "      --disabled-bg-color: #DDD;\n",
              "  }\n",
              "\n",
              "  [theme=dark] .colab-df-quickchart {\n",
              "      --bg-color: #3B4455;\n",
              "      --fill-color: #D2E3FC;\n",
              "      --hover-bg-color: #434B5C;\n",
              "      --hover-fill-color: #FFFFFF;\n",
              "      --disabled-bg-color: #3B4455;\n",
              "      --disabled-fill-color: #666;\n",
              "  }\n",
              "\n",
              "  .colab-df-quickchart {\n",
              "    background-color: var(--bg-color);\n",
              "    border: none;\n",
              "    border-radius: 50%;\n",
              "    cursor: pointer;\n",
              "    display: none;\n",
              "    fill: var(--fill-color);\n",
              "    height: 32px;\n",
              "    padding: 0;\n",
              "    width: 32px;\n",
              "  }\n",
              "\n",
              "  .colab-df-quickchart:hover {\n",
              "    background-color: var(--hover-bg-color);\n",
              "    box-shadow: 0 1px 2px rgba(60, 64, 67, 0.3), 0 1px 3px 1px rgba(60, 64, 67, 0.15);\n",
              "    fill: var(--button-hover-fill-color);\n",
              "  }\n",
              "\n",
              "  .colab-df-quickchart-complete:disabled,\n",
              "  .colab-df-quickchart-complete:disabled:hover {\n",
              "    background-color: var(--disabled-bg-color);\n",
              "    fill: var(--disabled-fill-color);\n",
              "    box-shadow: none;\n",
              "  }\n",
              "\n",
              "  .colab-df-spinner {\n",
              "    border: 2px solid var(--fill-color);\n",
              "    border-color: transparent;\n",
              "    border-bottom-color: var(--fill-color);\n",
              "    animation:\n",
              "      spin 1s steps(1) infinite;\n",
              "  }\n",
              "\n",
              "  @keyframes spin {\n",
              "    0% {\n",
              "      border-color: transparent;\n",
              "      border-bottom-color: var(--fill-color);\n",
              "      border-left-color: var(--fill-color);\n",
              "    }\n",
              "    20% {\n",
              "      border-color: transparent;\n",
              "      border-left-color: var(--fill-color);\n",
              "      border-top-color: var(--fill-color);\n",
              "    }\n",
              "    30% {\n",
              "      border-color: transparent;\n",
              "      border-left-color: var(--fill-color);\n",
              "      border-top-color: var(--fill-color);\n",
              "      border-right-color: var(--fill-color);\n",
              "    }\n",
              "    40% {\n",
              "      border-color: transparent;\n",
              "      border-right-color: var(--fill-color);\n",
              "      border-top-color: var(--fill-color);\n",
              "    }\n",
              "    60% {\n",
              "      border-color: transparent;\n",
              "      border-right-color: var(--fill-color);\n",
              "    }\n",
              "    80% {\n",
              "      border-color: transparent;\n",
              "      border-right-color: var(--fill-color);\n",
              "      border-bottom-color: var(--fill-color);\n",
              "    }\n",
              "    90% {\n",
              "      border-color: transparent;\n",
              "      border-bottom-color: var(--fill-color);\n",
              "    }\n",
              "  }\n",
              "</style>\n",
              "\n",
              "  <script>\n",
              "    async function quickchart(key) {\n",
              "      const quickchartButtonEl =\n",
              "        document.querySelector('#' + key + ' button');\n",
              "      quickchartButtonEl.disabled = true;  // To prevent multiple clicks.\n",
              "      quickchartButtonEl.classList.add('colab-df-spinner');\n",
              "      try {\n",
              "        const charts = await google.colab.kernel.invokeFunction(\n",
              "            'suggestCharts', [key], {});\n",
              "      } catch (error) {\n",
              "        console.error('Error during call to suggestCharts:', error);\n",
              "      }\n",
              "      quickchartButtonEl.classList.remove('colab-df-spinner');\n",
              "      quickchartButtonEl.classList.add('colab-df-quickchart-complete');\n",
              "    }\n",
              "    (() => {\n",
              "      let quickchartButtonEl =\n",
              "        document.querySelector('#df-3a5728f3-b0d8-45ce-b191-e0bce4264220 button');\n",
              "      quickchartButtonEl.style.display =\n",
              "        google.colab.kernel.accessAllowed ? 'block' : 'none';\n",
              "    })();\n",
              "  </script>\n",
              "</div>\n",
              "\n",
              "  <div id=\"id_9c175175-8b5f-4f89-981e-e4dffc251595\">\n",
              "    <style>\n",
              "      .colab-df-generate {\n",
              "        background-color: #E8F0FE;\n",
              "        border: none;\n",
              "        border-radius: 50%;\n",
              "        cursor: pointer;\n",
              "        display: none;\n",
              "        fill: #1967D2;\n",
              "        height: 32px;\n",
              "        padding: 0 0 0 0;\n",
              "        width: 32px;\n",
              "      }\n",
              "\n",
              "      .colab-df-generate:hover {\n",
              "        background-color: #E2EBFA;\n",
              "        box-shadow: 0px 1px 2px rgba(60, 64, 67, 0.3), 0px 1px 3px 1px rgba(60, 64, 67, 0.15);\n",
              "        fill: #174EA6;\n",
              "      }\n",
              "\n",
              "      [theme=dark] .colab-df-generate {\n",
              "        background-color: #3B4455;\n",
              "        fill: #D2E3FC;\n",
              "      }\n",
              "\n",
              "      [theme=dark] .colab-df-generate:hover {\n",
              "        background-color: #434B5C;\n",
              "        box-shadow: 0px 1px 3px 1px rgba(0, 0, 0, 0.15);\n",
              "        filter: drop-shadow(0px 1px 2px rgba(0, 0, 0, 0.3));\n",
              "        fill: #FFFFFF;\n",
              "      }\n",
              "    </style>\n",
              "    <button class=\"colab-df-generate\" onclick=\"generateWithVariable('df')\"\n",
              "            title=\"Generate code using this dataframe.\"\n",
              "            style=\"display:none;\">\n",
              "\n",
              "  <svg xmlns=\"http://www.w3.org/2000/svg\" height=\"24px\"viewBox=\"0 0 24 24\"\n",
              "       width=\"24px\">\n",
              "    <path d=\"M7,19H8.4L18.45,9,17,7.55,7,17.6ZM5,21V16.75L18.45,3.32a2,2,0,0,1,2.83,0l1.4,1.43a1.91,1.91,0,0,1,.58,1.4,1.91,1.91,0,0,1-.58,1.4L9.25,21ZM18.45,9,17,7.55Zm-12,3A5.31,5.31,0,0,0,4.9,8.1,5.31,5.31,0,0,0,1,6.5,5.31,5.31,0,0,0,4.9,4.9,5.31,5.31,0,0,0,6.5,1,5.31,5.31,0,0,0,8.1,4.9,5.31,5.31,0,0,0,12,6.5,5.46,5.46,0,0,0,6.5,12Z\"/>\n",
              "  </svg>\n",
              "    </button>\n",
              "    <script>\n",
              "      (() => {\n",
              "      const buttonEl =\n",
              "        document.querySelector('#id_9c175175-8b5f-4f89-981e-e4dffc251595 button.colab-df-generate');\n",
              "      buttonEl.style.display =\n",
              "        google.colab.kernel.accessAllowed ? 'block' : 'none';\n",
              "\n",
              "      buttonEl.onclick = () => {\n",
              "        google.colab.notebook.generateWithVariable('df');\n",
              "      }\n",
              "      })();\n",
              "    </script>\n",
              "  </div>\n",
              "\n",
              "    </div>\n",
              "  </div>\n"
            ],
            "application/vnd.google.colaboratory.intrinsic+json": {
              "type": "dataframe",
              "variable_name": "df",
              "summary": "{\n  \"name\": \"df\",\n  \"rows\": 16,\n  \"fields\": [\n    {\n      \"column\": \"Fecha\",\n      \"properties\": {\n        \"dtype\": \"date\",\n        \"min\": \"2024-01-01 00:00:00\",\n        \"max\": \"2024-03-01 00:00:00\",\n        \"num_unique_values\": 3,\n        \"samples\": [\n          \"2024-01-01 00:00:00\",\n          \"2024-02-01 00:00:00\",\n          \"2024-03-01 00:00:00\"\n        ],\n        \"semantic_type\": \"\",\n        \"description\": \"\"\n      }\n    },\n    {\n      \"column\": \"Producto o Servicio\",\n      \"properties\": {\n        \"dtype\": \"category\",\n        \"num_unique_values\": 6,\n        \"samples\": [\n          \"Laptop Pro\",\n          \"Tablet Lite\",\n          \"Soporte T\\u00e9cnico Anual\"\n        ],\n        \"semantic_type\": \"\",\n        \"description\": \"\"\n      }\n    },\n    {\n      \"column\": \"Categor\\u00eda\",\n      \"properties\": {\n        \"dtype\": \"category\",\n        \"num_unique_values\": 3,\n        \"samples\": [\n          \"Hardware\",\n          \"Software\",\n          \"Suscripci\\u00f3n\"\n        ],\n        \"semantic_type\": \"\",\n        \"description\": \"\"\n      }\n    },\n    {\n      \"column\": \"Cantidad Vendida\",\n      \"properties\": {\n        \"dtype\": \"number\",\n        \"std\": 14,\n        \"min\": 3,\n        \"max\": 50,\n        \"num_unique_values\": 16,\n        \"samples\": [\n          35,\n          48,\n          18\n        ],\n        \"semantic_type\": \"\",\n        \"description\": \"\"\n      }\n    },\n    {\n      \"column\": \"Precio Unitario\",\n      \"properties\": {\n        \"dtype\": \"number\",\n        \"std\": 348.81612961499263,\n        \"min\": 191.81,\n        \"max\": 1255.32,\n        \"num_unique_values\": 13,\n        \"samples\": [\n          863.86,\n          882.44,\n          1079.96\n        ],\n        \"semantic_type\": \"\",\n        \"description\": \"\"\n      }\n    },\n    {\n      \"column\": \"Total Venta\",\n      \"properties\": {\n        \"dtype\": \"number\",\n        \"std\": 16625.534288612198,\n        \"min\": 2217.36,\n        \"max\": 50212.8,\n        \"num_unique_values\": 16,\n        \"samples\": [\n          37798.6,\n          14190.72,\n          6438.960000000001\n        ],\n        \"semantic_type\": \"\",\n        \"description\": \"\"\n      }\n    }\n  ]\n}"
            }
          },
          "metadata": {},
          "execution_count": 70
        }
      ]
    },
    {
      "cell_type": "code",
      "source": [
        "# Sumar las ventas totales por categoría\n",
        "ventas_por_categoria = rdd_ventas.map(lambda x: (x[2], x[5])).reduceByKey(lambda x, y: x + y)\n",
        "\n",
        "resultado_categoria = ventas_por_categoria.collect()\n",
        "print(\"Ventas totales por categoría:\")\n",
        "for categoria, total in resultado_categoria:\n",
        "    print(f\"{categoria}: {total}\")"
      ],
      "metadata": {
        "colab": {
          "base_uri": "https://localhost:8080/"
        },
        "id": "DzpvI38QTugv",
        "outputId": "260675e8-eea5-4a6a-b849-808d7d5104ad"
      },
      "execution_count": 59,
      "outputs": [
        {
          "output_type": "stream",
          "name": "stdout",
          "text": [
            "Ventas totales por categoría:\n",
            "Suscripción: 46883.52\n",
            "Hardware: 179390.45\n",
            "Software: 128929.99000000002\n"
          ]
        }
      ]
    },
    {
      "cell_type": "code",
      "source": [
        "# Sumar la cantidad vendida por producto\n",
        "cantidad_por_producto = rdd_ventas.map(lambda x: (x[1], x[3])).reduceByKey(lambda x, y: x + y)\n",
        "\n",
        "orden_empresa = cantidad_por_producto.sortBy(lambda x: x[1], ascending=False)\n",
        "\n",
        "resultado_producto = orden_empresa.collect()\n",
        "print(\"Producto más vendido por cantidad:\")\n",
        "for producto, cantidad in resultado_producto:\n",
        "    print(f\"{producto}: {cantidad}\")\n"
      ],
      "metadata": {
        "colab": {
          "base_uri": "https://localhost:8080/"
        },
        "id": "-roWYHGvUHu3",
        "outputId": "e88b60c7-2255-4256-e1c4-074b9b623158"
      },
      "execution_count": 64,
      "outputs": [
        {
          "output_type": "stream",
          "name": "stdout",
          "text": [
            "Producto más vendido por cantidad:\n",
            "Tablet Lite: 158\n",
            "Laptop Pro: 122\n",
            "Software CRM: 116\n",
            "Soporte Técnico Mensual: 49\n",
            "Software ERP: 40\n",
            "Soporte Técnico Anual: 3\n"
          ]
        }
      ]
    },
    {
      "cell_type": "code",
      "source": [
        "# Extraer el mes y sumar las ventas totales por mes\n",
        "ventas_por_mes = rdd_ventas.map(lambda x:\n",
        " (pd.to_datetime(x[0]).strftime(\"%Y-%m\"), x[5])).reduceByKey(lambda x, y: x + y)\n",
        "\n",
        "ventas_ordenadas_mes = ventas_por_mes.sortByKey()\n",
        "\n",
        "resultado_mes = ventas_ordenadas_mes.collect()\n",
        "print(\"Ventas totales por mes:\")\n",
        "for mes, total in resultado_mes:\n",
        "    print(f\"{mes}: {total}\")"
      ],
      "metadata": {
        "colab": {
          "base_uri": "https://localhost:8080/"
        },
        "id": "t4140T7YUZMr",
        "outputId": "42a92409-2b0f-42c7-bd9d-ed869b3f2498"
      },
      "execution_count": 71,
      "outputs": [
        {
          "output_type": "stream",
          "name": "stdout",
          "text": [
            "Ventas totales por mes:\n",
            "2024-01: 105294.36000000002\n",
            "2024-02: 50688.44\n",
            "2024-03: 199221.15999999997\n"
          ]
        }
      ]
    },
    {
      "cell_type": "code",
      "source": [],
      "metadata": {
        "id": "iFowOWTcabG5"
      },
      "execution_count": null,
      "outputs": []
    }
  ]
}